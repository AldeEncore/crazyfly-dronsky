{
 "cells": [
  {
   "cell_type": "markdown",
   "id": "PwzxHjX_YYNn",
   "metadata": {
    "id": "PwzxHjX_YYNn"
   },
   "source": [
    "# Lab: Week #10 | Using Quantum Hardware\n",
    "---\n",
    "\n",
    "### **Description**:  \n",
    "In this week's lab, we will see how to use real quantum hardware from IBM to run our circuits.\n",
    "\n",
    "<br>\n",
    "\n",
    "### **Cheat Sheets**:  \n",
    "\n",
    "[Updated Qiskit Cheat Sheet](https://docs.google.com/document/d/1GArKBUksi4pMgcEBc4OpvWp2KREPpnQvq0AgyijJnkI/edit?usp=share_link)\n",
    "\n",
    "[Loops and Conditionals Cheat Sheet](https://docs.google.com/document/d/1WKvv22SC7pA0TCqCJnxgZOf2tHjvTotaHYEtOx2FNkI/edit?usp=share_link)\n",
    "\n",
    "\n",
    "---"
   ]
  },
  {
   "cell_type": "markdown",
   "id": "k0Lsovb5VOKP",
   "metadata": {
    "id": "k0Lsovb5VOKP",
    "tags": []
   },
   "source": [
    "## **Part 0: Importing from Qiskit**\n",
    "---\n",
    "\n",
    "Run the cell directly below before doing anything else. This will import all of the functions that we will use today."
   ]
  },
  {
   "cell_type": "code",
   "execution_count": 1,
   "id": "2fdb668d-f835-4c9e-96fb-ba4b68863892",
   "metadata": {
    "id": "2fdb668d-f835-4c9e-96fb-ba4b68863892"
   },
   "outputs": [],
   "source": [
    "import warnings\n",
    "warnings.filterwarnings('ignore')\n",
    "\n",
    "import numpy as np\n",
    "\n",
    "# Importing standard Qiskit libraries\n",
    "from qiskit import QuantumCircuit, transpile, Aer, IBMQ, execute\n",
    "from qiskit.tools.jupyter import *\n",
    "from qiskit.visualization import *\n",
    "from ibm_quantum_widgets import *\n",
    "from qiskit.providers.aer import QasmSimulator\n",
    "from qiskit.tools.monitor import job_monitor\n",
    "\n",
    "# Loading your IBM Quantum account(s)\n",
    "provider = IBMQ.load_account()"
   ]
  },
  {
   "cell_type": "markdown",
   "id": "sVwVviQORgWa",
   "metadata": {
    "id": "sVwVviQORgWa",
    "tags": []
   },
   "source": [
    "## **Part 1: Backends**\n",
    "---\n",
    "\n",
    "In this section, we will explore the concept of \"backends\" in Qiskit and what we can do with them."
   ]
  },
  {
   "cell_type": "markdown",
   "id": "ygbX_FcFUVuL",
   "metadata": {
    "id": "ygbX_FcFUVuL"
   },
   "source": [
    "#### **Exercise #1** \n",
    "\n",
    "**Together**, let's see what information we can get about a specific backend from IQX: ibm_oslo."
   ]
  },
  {
   "cell_type": "code",
   "execution_count": 2,
   "id": "09fab181-db1f-46b2-8a6b-0a5d9459fc7d",
   "metadata": {
    "id": "09fab181-db1f-46b2-8a6b-0a5d9459fc7d"
   },
   "outputs": [
    {
     "data": {
      "application/vnd.jupyter.widget-view+json": {
       "model_id": "0e7ddb50600d4231b43b7627dfbe90d7",
       "version_major": 2,
       "version_minor": 0
      },
      "text/plain": [
       "VBox(children=(HTML(value=\"<h1 style='color:#ffffff;background-color:#000000;padding-top: 1%;padding-bottom: 1…"
      ]
     },
     "metadata": {},
     "output_type": "display_data"
    },
    {
     "data": {
      "text/plain": [
       "<IBMQBackend('ibm_oslo') from IBMQ(hub='ibm-q', group='open', project='main')>"
      ]
     },
     "execution_count": 2,
     "metadata": {},
     "output_type": "execute_result"
    }
   ],
   "source": [
    "provider.get_backend('ibm_oslo')"
   ]
  },
  {
   "cell_type": "markdown",
   "id": "pwpt38KFbAwn",
   "metadata": {
    "id": "pwpt38KFbAwn"
   },
   "source": [
    "#### **Exercise #2** \n",
    "\n",
    "**Together**, let's look at a list of all available backends and see how long the lines are to use them."
   ]
  },
  {
   "cell_type": "code",
   "execution_count": 3,
   "id": "5b921c1e-5494-4dfa-bad5-ec1834a8eb9d",
   "metadata": {
    "id": "5b921c1e-5494-4dfa-bad5-ec1834a8eb9d"
   },
   "outputs": [
    {
     "name": "stdout",
     "output_type": "stream",
     "text": [
      "Backend 0: ibmq_qasm_simulator\n",
      "Pending Jobs: 5\n",
      "\n",
      "Backend 1: ibmq_lima\n",
      "Pending Jobs: 149\n",
      "\n",
      "Backend 2: ibmq_belem\n",
      "Pending Jobs: 13\n",
      "\n",
      "Backend 3: ibmq_quito\n",
      "Pending Jobs: 0\n",
      "\n",
      "Backend 4: simulator_statevector\n",
      "Pending Jobs: 5\n",
      "\n",
      "Backend 5: simulator_mps\n",
      "Pending Jobs: 5\n",
      "\n",
      "Backend 6: simulator_extended_stabilizer\n",
      "Pending Jobs: 5\n",
      "\n",
      "Backend 7: simulator_stabilizer\n",
      "Pending Jobs: 5\n",
      "\n",
      "Backend 8: ibmq_manila\n",
      "Pending Jobs: 192\n",
      "\n",
      "Backend 9: ibm_nairobi\n",
      "Pending Jobs: 39\n",
      "\n",
      "Backend 10: ibm_oslo\n",
      "Pending Jobs: 50\n",
      "\n"
     ]
    }
   ],
   "source": [
    "backends = provider.backends()\n",
    "\n",
    "for i in range(len(backends)):\n",
    "    print(\"Backend \" + str(i) + \": \" + str(backends[i]))\n",
    "    print(\"Pending Jobs: \" + str(backends[i].status().pending_jobs))\n",
    "    print()"
   ]
  },
  {
   "cell_type": "markdown",
   "id": "bc56384b-ffe8-42f6-981b-7e44bf84eaa9",
   "metadata": {
    "id": "bc56384b-ffe8-42f6-981b-7e44bf84eaa9"
   },
   "source": [
    "## **Part 2: Running on Quantum Hardware**\n",
    "---\n",
    "\n",
    "In this section, we will run our circuits on real quantum hardware!!"
   ]
  },
  {
   "cell_type": "markdown",
   "id": "WWg-rR2_bH7G",
   "metadata": {
    "id": "WWg-rR2_bH7G"
   },
   "source": [
    "#### **Exercise #1** \n",
    "\n",
    "Let's jump right in! Specifically:\n",
    "1. Run the first cell to create and draw the circuit we're going to run today: **creating entanglement**.\n",
    "\n",
    "2. Run the second cell to simulate this so we have something to compare our measured results to.\n",
    "\n",
    "3. Run the third cell to send the job off to execute and see what it's status is initially."
   ]
  },
  {
   "cell_type": "code",
   "execution_count": 4,
   "id": "2ae77c61-33e4-446f-8760-6a28ff9548b1",
   "metadata": {
    "id": "2ae77c61-33e4-446f-8760-6a28ff9548b1"
   },
   "outputs": [
    {
     "data": {
      "image/png": "[encoded data removed]",
      "text/plain": [
       "<Figure size 327.252x204.68 with 1 Axes>"
      ]
     },
     "execution_count": 4,
     "metadata": {},
     "output_type": "execute_result"
    }
   ],
   "source": [
    "qc = QuantumCircuit(2, 2)\n",
    "\n",
    "qc.h(0)\n",
    "qc.cx(0, 1)\n",
    "\n",
    "qc.measure([0, 1], [0, 1])\n",
    "\n",
    "qc.draw()"
   ]
  },
  {
   "cell_type": "code",
   "execution_count": 5,
   "id": "42752374-4934-4807-9324-34002f1e68f6",
   "metadata": {
    "id": "42752374-4934-4807-9324-34002f1e68f6"
   },
   "outputs": [
    {
     "data": {
      "image/png": "[encoded data removed]",
      "text/plain": [
       "<Figure size 504x360 with 1 Axes>"
      ]
     },
     "execution_count": 5,
     "metadata": {},
     "output_type": "execute_result"
    }
   ],
   "source": [
    "backend = Aer.get_backend('qasm_simulator')\n",
    "job = execute(qc, backend = backend, shots = 1024)\n",
    "\n",
    "results = job.result()\n",
    "plot_histogram(results.get_counts(qc))"
   ]
  },
  {
   "cell_type": "code",
   "execution_count": 6,
   "id": "d19e37a2-8b98-4477-bcf9-73b4b1596498",
   "metadata": {
    "id": "d19e37a2-8b98-4477-bcf9-73b4b1596498"
   },
   "outputs": [
    {
     "data": {
      "text/plain": [
       "<JobStatus.QUEUED: 'job is queued'>"
      ]
     },
     "execution_count": 6,
     "metadata": {},
     "output_type": "execute_result"
    }
   ],
   "source": [
    "backend = backends[1]\n",
    "job = execute(qc, backend = backend, shots = 1024)\n",
    "\n",
    "job.status()"
   ]
  },
  {
   "cell_type": "markdown",
   "id": "tTmdrlsDbpZd",
   "metadata": {
    "id": "tTmdrlsDbpZd"
   },
   "source": [
    "---\n",
    "\n",
    "**Back to the slides**\n",
    "\n",
    "\n",
    "---"
   ]
  },
  {
   "cell_type": "markdown",
   "id": "67Awew8WbrfX",
   "metadata": {
    "id": "67Awew8WbrfX"
   },
   "source": [
    "#### **Exercise #2** \n",
    "\n",
    "While we wait for this job to finish, let's see what this was transpiled into for this specific backend, with and without `idle_wires = False`."
   ]
  },
  {
   "cell_type": "code",
   "execution_count": null,
   "id": "2fb9bd95-088b-4421-9c66-10343c9388d1",
   "metadata": {
    "id": "2fb9bd95-088b-4421-9c66-10343c9388d1"
   },
   "outputs": [],
   "source": [
    "tc = transpile(qc, backend = backend)\n",
    "tc.draw()"
   ]
  },
  {
   "cell_type": "code",
   "execution_count": null,
   "id": "ff855214-835a-4720-b4f2-96829b045123",
   "metadata": {
    "id": "ff855214-835a-4720-b4f2-96829b045123"
   },
   "outputs": [],
   "source": [
    "# Create and draw transpiled circuit without idle wires"
   ]
  },
  {
   "cell_type": "markdown",
   "id": "ar5mgt55cMk6",
   "metadata": {
    "id": "ar5mgt55cMk6"
   },
   "source": [
    "#### **Exercise #3** \n",
    "\n",
    "Write code to create a 4-qubit/4-classical bit quantum circuit with the gates listed below and a measurement of all qubits. Then create and draw the transpiled version of this circuit for the backend we're currently using.\n",
    "\n",
    "**Gates**:\n",
    "\n",
    "H on qubit 0\n",
    "\n",
    "X on qubit 1\n",
    "\n",
    "Z on qubit 2"
   ]
  },
  {
   "cell_type": "code",
   "execution_count": null,
   "id": "5bca6699-78f8-486c-813b-1d5051c1ba7e",
   "metadata": {
    "id": "5bca6699-78f8-486c-813b-1d5051c1ba7e"
   },
   "outputs": [],
   "source": [
    "# Create the circuit here\n"
   ]
  },
  {
   "cell_type": "markdown",
   "id": "Kwqkpgsjc_Tx",
   "metadata": {
    "id": "Kwqkpgsjc_Tx"
   },
   "source": [
    "#### **Exercise #4** \n",
    "\n",
    "Complete the code below to create and draw the transpiled version of this circuit for the backend we're currently using."
   ]
  },
  {
   "cell_type": "code",
   "execution_count": null,
   "id": "3f61767c-4dff-4961-bb27-effda1121fda",
   "metadata": {
    "id": "3f61767c-4dff-4961-bb27-effda1121fda"
   },
   "outputs": [],
   "source": [
    "qc3 = QuantumCircuit(6)\n",
    "\n",
    "for i in range(5):\n",
    "    qc3.cx(i, i + 1)\n",
    "    \n",
    "qc3.measure_all()\n",
    "\n",
    "# Transpile this circuit (without idle wires) for the current backend"
   ]
  },
  {
   "cell_type": "markdown",
   "id": "JHvcvUM5eMIS",
   "metadata": {
    "id": "JHvcvUM5eMIS"
   },
   "source": [
    "---\n",
    "\n",
    "**Before continuing, describe what happened in the chat and let's all discuss.**\n",
    "\n",
    "---"
   ]
  },
  {
   "cell_type": "markdown",
   "id": "KDiAHDm1dXCd",
   "metadata": {
    "id": "KDiAHDm1dXCd"
   },
   "source": [
    "#### **Exercise #5** \n",
    "\n",
    "The code above runs into an error! Let's fix this by using a different backend below. Specifically, use the last backend in our list to create and draw a transpiled circuit."
   ]
  },
  {
   "cell_type": "code",
   "execution_count": null,
   "id": "5508a6fd-2e28-4420-af60-5f1e5203f4e1",
   "metadata": {
    "id": "5508a6fd-2e28-4420-af60-5f1e5203f4e1"
   },
   "outputs": [],
   "source": [
    "tc3 = transpile(qc3, backend = backends[-1])\n",
    "tc3.draw(idle_wires = False)"
   ]
  },
  {
   "cell_type": "markdown",
   "id": "sIbvCASFdtmk",
   "metadata": {
    "id": "sIbvCASFdtmk"
   },
   "source": [
    "#### **Exercise #6** \n",
    "\n",
    "Let's check back in with that job we sent off!"
   ]
  },
  {
   "cell_type": "code",
   "execution_count": null,
   "id": "ad37ef01-cbfc-45b2-b5d0-6b6c65478daa",
   "metadata": {
    "id": "ad37ef01-cbfc-45b2-b5d0-6b6c65478daa"
   },
   "outputs": [],
   "source": [
    "job.status()"
   ]
  },
  {
   "cell_type": "markdown",
   "id": "n79ibspEdywi",
   "metadata": {
    "id": "n79ibspEdywi"
   },
   "source": [
    "**If the job is DONE, then we can look at the results by running the cell below.**"
   ]
  },
  {
   "cell_type": "code",
   "execution_count": null,
   "id": "2736038e-5bbe-432e-99ec-d94d88f8fdaf",
   "metadata": {
    "id": "2736038e-5bbe-432e-99ec-d94d88f8fdaf"
   },
   "outputs": [],
   "source": [
    "results = job.result()\n",
    "plot_histogram(results.get_counts(qc))"
   ]
  },
  {
   "cell_type": "markdown",
   "id": "hQJELyD6aeJ2",
   "metadata": {
    "id": "hQJELyD6aeJ2"
   },
   "source": [
    "---\n",
    "# End of Lab\n",
    "---\n",
    "© 2022 The Coding School, All rights reserved"
   ]
  }
 ],
 "metadata": {
  "colab": {
   "provenance": []
  },
  "kernelspec": {
   "display_name": "Python 3 (ipykernel)",
   "language": "python",
   "name": "python3"
  },
  "language_info": {
   "codemirror_mode": {
    "name": "ipython",
    "version": 3
   },
   "file_extension": ".py",
   "mimetype": "text/x-python",
   "name": "python",
   "nbconvert_exporter": "python",
   "pygments_lexer": "ipython3",
   "version": "3.10.8"
  },
  "widgets": {
   "application/vnd.jupyter.widget-state+json": {
    "state": {},
    "version_major": 2,
    "version_minor": 0
   }
  }
 },
 "nbformat": 4,
 "nbformat_minor": 5
}
